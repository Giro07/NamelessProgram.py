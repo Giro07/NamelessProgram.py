{
 "cells": [
  {
   "cell_type": "code",
   "execution_count": 37,
   "metadata": {},
   "outputs": [],
   "source": [
    "def conversor(entry , convTo = \"SI\", base = \"metric\", maintain = True):\n",
    "        \n",
    "    SI = [\"m\",\"s\",\"kg\",\"K\"]\n",
    "    metric = [\"k\",\"h\",\"da\",\" \",\"d\",\"c\",\"m\"]\n",
    "    extras = [\"T\",\"G\",\"M\",\" \",\"μ\",\"n\",\"p\"]\n",
    "    time = [\"min\",\"h\",\"hr\",\"dia\",\"dias\",\"semana\",\"semanas\",\"mes\",\"meses\",\"ano\",\"anos\"]\n",
    "    temp = [\"graus C\",\"graus F\",\"°C\",\"°F\"]\n",
    "    \n",
    "    if convTo == \"SI\":\n",
    "        system = SI\n",
    "    else:\n",
    "        system = convTo\n",
    "    \n",
    "    if base == \"expanded\":\n",
    "        i = 0\n",
    "        while i < len(extras)-1:\n",
    "            if extras[i] != \"\":\n",
    "                extras.insert(i+1,\"\")\n",
    "                extras.insert(i+2,\"\")\n",
    "            i+=1\n",
    "\n",
    "        expansion = extras.index(\" \")\n",
    "        extras.remove(\" \")\n",
    "        for i in range(len(metric)):\n",
    "            extras.insert(i + expansion, metric[i])\n",
    "        \n",
    "        metric = extras\n",
    "        \n",
    "    maintainDic = {}\n",
    "    maintainStr = \"\"\n",
    "    listToConv = []\n",
    "    listDone = []\n",
    "    \n",
    "    if type(entry) == str:\n",
    "        for i in range(len(entry)):\n",
    "            try:\n",
    "                float(entry[i])\n",
    "            except:\n",
    "                num = float(entry[:i])\n",
    "                uni = entry[i:].lstrip()                \n",
    "                break\n",
    "        listToConv = [(num,uni)]\n",
    "    \n",
    "    elif type(entry) == dict:\n",
    "        for i in entry:\n",
    "            listToConv.append((i,entry[i]))\n",
    "        \n",
    "    elif type(entry) == tuple:\n",
    "        listToConv.append(entry)\n",
    "    \n",
    "    else:\n",
    "        listToConv = entry\n",
    "    \n",
    "    for special in listToConv: #Essa parte irá converter Horas, minutos, Celsius, Fahrenheit .. \n",
    "        cont = listToConv.index(special)\n",
    "        if special[1] in time:\n",
    "            if special[1] == \"min\":\n",
    "                num = 60*special[0]\n",
    "            elif special[1] == \"h\" or special[1] == \"hr\":\n",
    "                num = 60*60*special[0]\n",
    "            elif special[1] == \"dia\" or special[1] == \"dias\":\n",
    "                num = 24*60*60*special[0]\n",
    "            elif special[1] == \"semana\" or special[1] == \"semanas\":\n",
    "                num = 7*24*60*60*special[0]\n",
    "            elif special[1] == \"mes\" or special[1] == \"meses\":\n",
    "                num = 30*24*60*60*special[0]\n",
    "            elif special[1] == \"ano\" or special[1] == \"anos\":\n",
    "                num = 365*24*60*60*special[0]\n",
    "            newTuple = (num,\"s\")\n",
    "            listToConv.insert(cont,newTuple)\n",
    "            listToConv.remove(special)\n",
    "        \n",
    "        elif special[1] in temp:\n",
    "            if special[1] == \"graus C\" or special[1] == \"°C\":\n",
    "                num = 273.15 + special[0]\n",
    "            elif special[1] == \"graus F\" or special[1] == \"°F\":\n",
    "                num = (5*special[0]-160)/9 + 273.15\n",
    "            newTuple = (num,\"K\")\n",
    "            listToConv.insert(cont,newTuple)\n",
    "            listToConv.remove(special)\n",
    "            \n",
    "    \n",
    "    for measure in listToConv: \n",
    "        num = measure[0]\n",
    "        uni = measure[1]\n",
    "        if uni not in time and uni not in temp:\n",
    "            \n",
    "            U = []\n",
    "            for i in range(len(metric)):\n",
    "                if metric[i] != \"\":\n",
    "                    U.append((metric[i]+uni[-1]).lstrip())\n",
    "                else:\n",
    "                    U.append(\"\")\n",
    "\n",
    "            for u in system:\n",
    "                if u in U:\n",
    "                    uSystem = u\n",
    "                    \n",
    "            b = U.index(uni)\n",
    "            c = U.index(uSystem)\n",
    "\n",
    "            listDone.append((num * 10**(c-b), uSystem))\n",
    "    \n",
    "    if maintain:\n",
    "        if type(entry) == str:\n",
    "            maintainStr = \"{} {}\".format(listDone[0][0],listDone[0][1])\n",
    "            return maintainStr\n",
    "        \n",
    "        elif type(entry) == dict:\n",
    "            for i in listDone:\n",
    "                maintainDic[i[0]] = i[1]\n",
    "            return maintainDic\n",
    "        \n",
    "        elif type(entry) == tuple:\n",
    "            return listDone[0]\n",
    "        \n",
    "        else:\n",
    "            return listDone\n",
    "    else:\n",
    "        return listDone"
   ]
  },
  {
   "cell_type": "code",
   "execution_count": 38,
   "metadata": {},
   "outputs": [],
   "source": [
    "a = \"200 kg\"\n",
    "b = (200,\"cg\")\n",
    "c = [(20,\"km\"),(30,\"hr\"),(500,\"mg\"),(100,\"°C\"),(32,\"°F\"),(100,\"K\")]\n",
    "d = {20:\"mm\", 30:\"ms\", 500:\"mg\"} \n"
   ]
  },
  {
   "cell_type": "code",
   "execution_count": 42,
   "metadata": {},
   "outputs": [
    {
     "name": "stdout",
     "output_type": "stream",
     "text": [
      "['km', 'hm', 'dam', 'm', 'dm', 'cm', 'mm']\n",
      "['ks', 'hs', 'das', 's', 'ds', 'cs', 'ms']\n",
      "['kg', 'hg', 'dag', 'g', 'dg', 'cg', 'mg']\n",
      "['kK', 'hK', 'daK', 'K', 'dK', 'cK', 'mK']\n",
      "['kK', 'hK', 'daK', 'K', 'dK', 'cK', 'mK']\n",
      "['kK', 'hK', 'daK', 'K', 'dK', 'cK', 'mK']\n",
      "[(20000, 'm'), (108000, 's'), (0.0005, 'kg'), (373.15, 'K'), (273.15, 'K'), (100, 'K')]\n"
     ]
    }
   ],
   "source": [
    "print(conversor(c)) #maintain = False, sai Lista de Tuplas"
   ]
  },
  {
   "cell_type": "code",
   "execution_count": 20,
   "metadata": {},
   "outputs": [
    {
     "name": "stdout",
     "output_type": "stream",
     "text": [
      "(0.002, 'kg')\n",
      "[(0.002, 'kg')]\n"
     ]
    }
   ],
   "source": [
    "print(conversor(b)) #entrada de Tupla -> Sai Tupla\n",
    "print(conversor(b, maintain = False)) #maintain = False, sai Lista de Tuplas"
   ]
  },
  {
   "cell_type": "code",
   "execution_count": 21,
   "metadata": {},
   "outputs": [
    {
     "name": "stdout",
     "output_type": "stream",
     "text": [
      "[(20000, 'm'), (108000, 's'), (0.0005, 'kg'), (373.15, 'K'), (273.15, 'K')]\n",
      "[(20000, 'm'), (108000, 's'), (0.0005, 'kg'), (373.15, 'K'), (273.15, 'K')]\n"
     ]
    }
   ],
   "source": [
    "print(conversor(c)) #entrada de Lista de Tuplas -> Sai Lista de Tuplas\n",
    "print(conversor(c, maintain = False)) #maintain = False, sai Lista de Tuplas"
   ]
  },
  {
   "cell_type": "code",
   "execution_count": 22,
   "metadata": {},
   "outputs": [
    {
     "name": "stdout",
     "output_type": "stream",
     "text": [
      "{0.02: 'm', 0.03: 's', 0.0005: 'kg'}\n",
      "[(0.02, 'm'), (0.03, 's'), (0.0005, 'kg')]\n"
     ]
    }
   ],
   "source": [
    "print(conversor(d)) #entrada de Dicionario -> Sai Dicionario\n",
    "print(conversor(d, maintain = False)) #maintain = False, sai Lista de Tuplas"
   ]
  },
  {
   "cell_type": "code",
   "execution_count": 35,
   "metadata": {},
   "outputs": [],
   "source": [
    "a = \"kg\""
   ]
  },
  {
   "cell_type": "code",
   "execution_count": 36,
   "metadata": {},
   "outputs": [
    {
     "data": {
      "text/plain": [
       "'g'"
      ]
     },
     "execution_count": 36,
     "metadata": {},
     "output_type": "execute_result"
    }
   ],
   "source": [
    "a[-1]"
   ]
  },
  {
   "cell_type": "code",
   "execution_count": null,
   "metadata": {},
   "outputs": [],
   "source": []
  }
 ],
 "metadata": {
  "kernelspec": {
   "display_name": "Python 3",
   "language": "python",
   "name": "python3"
  },
  "language_info": {
   "codemirror_mode": {
    "name": "ipython",
    "version": 3
   },
   "file_extension": ".py",
   "mimetype": "text/x-python",
   "name": "python",
   "nbconvert_exporter": "python",
   "pygments_lexer": "ipython3",
   "version": "3.6.4"
  }
 },
 "nbformat": 4,
 "nbformat_minor": 2
}
