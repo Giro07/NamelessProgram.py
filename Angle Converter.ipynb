{
 "cells": [
  {
   "cell_type": "code",
   "execution_count": null,
   "metadata": {},
   "outputs": [],
   "source": [
    "def angle_converter(angulo, entrada, saida):\n",
    "    import math\n",
    "    if entrada == \"graus\" and saida == \"rad\":\n",
    "        angulo = math.radians(angulo)\n",
    "    elif entrada == \"rad\" and saida == \"graus\":\n",
    "        angulo = math.degrees(angulo)\n",
    "    return print(angulo,saida)"
   ]
  }
 ],
 "metadata": {
  "kernelspec": {
   "display_name": "Python 3",
   "language": "python",
   "name": "python3"
  },
  "language_info": {
   "codemirror_mode": {
    "name": "ipython",
    "version": 3
   },
   "file_extension": ".py",
   "mimetype": "text/x-python",
   "name": "python",
   "nbconvert_exporter": "python",
   "pygments_lexer": "ipython3",
   "version": "3.7.0"
  }
 },
 "nbformat": 4,
 "nbformat_minor": 2
}
