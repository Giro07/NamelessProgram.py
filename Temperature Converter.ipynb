{
 "cells": [
  {
   "cell_type": "code",
   "execution_count": 12,
   "metadata": {},
   "outputs": [],
   "source": [
    "def convTemp(TempIn, ValueIn, TempOut):\n",
    "    if TempIn == \"°C\":\n",
    "        if TempOut == \"K\":\n",
    "            convTemp = ValueIn + 273.15\n",
    "        elif TempOut == \"°R\":\n",
    "            convTemp = ValueIn*1.8 + 491.67\n",
    "        elif TempOut == \"°F\":\n",
    "            convTemp = ValueIn*1.8 + 32\n",
    "            \n",
    "    elif TempIn == \"°F\":\n",
    "        if TempOut == \"K\":\n",
    "            convTemp = (ValueIn - 32)*(5/9) + 273.15 \n",
    "        elif TempOut == \"°R\":\n",
    "            convTemp = ValueIn + 459.67\n",
    "        elif TempOut == \"°C\":\n",
    "            convTemp = (ValueIn -32)*(5/9)\n",
    "    \n",
    "    elif TempIn == \"°R\":\n",
    "        if TempOut == \"K\":\n",
    "            convTemp = ValueIn*(5/9)\n",
    "        elif TempOut == \"°C\":\n",
    "            convTemp = (ValueIn - 491.67)*(5/9)\n",
    "        elif TempOut == \"°F\":\n",
    "            convTemp = (ValueIn - 459.67)\n",
    "            \n",
    "    elif TempIn == \"K\":\n",
    "        if TempOut == \"°R\":\n",
    "            convTemp = ValueIn*(1.8)\n",
    "        elif TempOut == \"°C\":\n",
    "            convTemp = (ValueIn - 273.15)\n",
    "        elif TempOut == \"°F\":\n",
    "            convTemp = (ValueIn - 273.15) *(1.8) + 32 \n",
    "\n",
    "    return print(convTemp)\n",
    "\n",
    "    \n",
    "        \n",
    "            \n",
    "    "
   ]
  },
  {
   "cell_type": "code",
   "execution_count": null,
   "metadata": {},
   "outputs": [],
   "source": []
  },
  {
   "cell_type": "code",
   "execution_count": null,
   "metadata": {},
   "outputs": [],
   "source": []
  },
  {
   "cell_type": "code",
   "execution_count": null,
   "metadata": {},
   "outputs": [],
   "source": []
  },
  {
   "cell_type": "code",
   "execution_count": null,
   "metadata": {},
   "outputs": [],
   "source": []
  }
 ],
 "metadata": {
  "kernelspec": {
   "display_name": "Python 3",
   "language": "python",
   "name": "python3"
  },
  "language_info": {
   "codemirror_mode": {
    "name": "ipython",
    "version": 3
   },
   "file_extension": ".py",
   "mimetype": "text/x-python",
   "name": "python",
   "nbconvert_exporter": "python",
   "pygments_lexer": "ipython3",
   "version": "3.7.0"
  }
 },
 "nbformat": 4,
 "nbformat_minor": 2
}
